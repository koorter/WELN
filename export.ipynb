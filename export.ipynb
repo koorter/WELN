{
 "cells": [
  {
   "cell_type": "code",
   "id": "878ebfd6-b918-4471-980f-722ca550aa66",
   "metadata": {
    "tags": [],
    "ExecuteTime": {
     "end_time": "2024-06-21T12:19:59.287462Z",
     "start_time": "2024-06-21T12:19:55.466570Z"
    }
   },
   "source": [
    "import pandas as pd\n",
    "\n",
    "table = pd.read_csv(\"result.csv\", index_col=0)\n",
    "result = {}\n",
    "for i in table:\n",
    "    # print(i.split(\"/\")[-1])\n",
    "    # print([k.split(\"/\")[-1].split(\".\")[0] for k in list(table[i])])\n",
    "    result[i.split(\"/\")[-1]] = [k.split(\"/\")[-1].split(\".\")[0] for k in list(table[i])]\n",
    "# with open(\"query_drone_name.txt\", \"r\") as f:\n",
    "#     txt = f.readlines()\n",
    "# print(table)\n",
    "print(result[\"Q3JI2tUwDkhcfip.jpeg\"])"
   ],
   "outputs": [
    {
     "name": "stdout",
     "output_type": "stream",
     "text": [
      "['Uuxf8qFNBB4JApk', 'OfsDjJeM8jIfZPb', 'MLMfzYhTmHSxeWy', 'g3MWFON8z4JuSaF', 'xjC3i3tLoz7nTFV', 'Hb5ZBfmMyptlOH1', 'X6OsfnKhF7Qh2YF', 'PZHTntC4jYRPSpB', 'IeJSv4arxHSQHjZ', 'ZCJXDIeGNaop3th']\n"
     ]
    }
   ],
   "execution_count": 1
  },
  {
   "cell_type": "code",
   "id": "4f58ac80-9a74-4ae3-90d3-a6fdcfe79bf2",
   "metadata": {
    "tags": [],
    "ExecuteTime": {
     "end_time": "2024-06-21T12:19:59.350939Z",
     "start_time": "2024-06-21T12:19:59.289087Z"
    }
   },
   "source": [
    "with open(\"query_drone_name.txt\", \"r\") as f:\n",
    "    txt = f.readlines()\n",
    "    f.close()\n",
    "txt = [i.split(\"\\n\")[0] for i in txt]\n",
    "with open(\"answer.txt\", \"w\") as p:  \n",
    "    for t in txt:\n",
    "        p.write(' '.join(result[t]))\n",
    "        p.write(\"\\n\")\n",
    "        # break\n",
    "# with open(\"answers.txt\", \"r\") as p:\n",
    "#     print(p.readlines())\n",
    "    "
   ],
   "outputs": [],
   "execution_count": 2
  },
  {
   "cell_type": "code",
   "id": "4d37d20e-c20f-4b64-a62e-a649d7ff45d6",
   "metadata": {
    "tags": [],
    "ExecuteTime": {
     "end_time": "2024-06-21T12:19:59.366901Z",
     "start_time": "2024-06-21T12:19:59.351940Z"
    }
   },
   "source": [
    "# !cat answer.txt"
   ],
   "outputs": [],
   "execution_count": 3
  },
  {
   "cell_type": "code",
   "id": "28d105aa-f71d-412a-ba47-e9d448be35dc",
   "metadata": {
    "ExecuteTime": {
     "end_time": "2024-06-21T12:20:01.511002Z",
     "start_time": "2024-06-21T12:19:59.367899Z"
    }
   },
   "source": [
    "%pycat answer.txt"
   ],
   "outputs": [],
   "execution_count": 4
  },
  {
   "metadata": {},
   "cell_type": "code",
   "source": "",
   "id": "2441b55430f08db0",
   "outputs": [],
   "execution_count": 4
  }
 ],
 "metadata": {
  "kernelspec": {
   "display_name": "Python 3 (ipykernel)",
   "language": "python",
   "name": "python3"
  },
  "language_info": {
   "codemirror_mode": {
    "name": "ipython",
    "version": 3
   },
   "file_extension": ".py",
   "mimetype": "text/x-python",
   "name": "python",
   "nbconvert_exporter": "python",
   "pygments_lexer": "ipython3",
   "version": "3.8.10"
  }
 },
 "nbformat": 4,
 "nbformat_minor": 5
}
